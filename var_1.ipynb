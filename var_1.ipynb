{
 "cells": [
  {
   "cell_type": "markdown",
   "id": "a6e39cd8",
   "metadata": {},
   "source": [
    "# Вариант 1\n",
    "**Цель:** Контроль дисперсии весов.\n",
    "\n",
    "- Разработайте архитектуру, которая будет за 5 слоев приводить тензор к размерности (1, 512, 1, 1).\n",
    "- Условие: дисперсия весов третьего слоя должна быть в два раза больше, чем у второго и четвертого.\n",
    "- Эксперимент: Проверьте влияние увеличенной дисперсии третьего слоя на распределение активаций после GAP и визуализируйте их гистограмму."
   ]
  },
  {
   "cell_type": "code",
   "execution_count": 7,
   "id": "7071135f",
   "metadata": {},
   "outputs": [],
   "source": [
    "import torch.nn as nn\n",
    "import torch\n",
    "import numpy as np"
   ]
  },
  {
   "cell_type": "code",
   "execution_count": null,
   "id": "504b667a",
   "metadata": {},
   "outputs": [
    {
     "name": "stdout",
     "output_type": "stream",
     "text": [
      "conv1 var 0.011902\n",
      "conv2 var 0.001169\n",
      "conv3 var 0.00236\n",
      "conv4 var 0.001165\n",
      "conv5 var 0.000145\n"
     ]
    },
    {
     "data": {
      "text/plain": [
       "torch.Size([1, 512, 1, 1])"
      ]
     },
     "execution_count": 22,
     "metadata": {},
     "output_type": "execute_result"
    }
   ],
   "source": [
    "class MyNet(nn.Module):\n",
    "    def __init__(self):\n",
    "        super().__init__()\n",
    "        self.convLayer1 = nn.Conv2d(in_channels=3, out_channels=32, kernel_size=3, stride=1, padding=1)\n",
    "        self.convLayer2 = nn.Conv2d(in_channels=32, out_channels=16, kernel_size=3, stride=2, padding=1)\n",
    "        self.convLayer3 = nn.Conv2d(in_channels=16, out_channels=32, kernel_size=3, stride=2, padding=1)\n",
    "        self.convLayer4 = nn.Conv2d(in_channels=32, out_channels=256, kernel_size=3, stride=2, padding=1)\n",
    "        self.convLayer5 = nn.Conv2d(in_channels=256, out_channels=512, kernel_size=3, stride=2, padding=1)\n",
    "        #self.avgPool = nn.AvgPool2d(kernel_size=2, stride=2)\n",
    "        self.activation = nn.ReLU()\n",
    "        \n",
    "    def forward(self, x):\n",
    "        #x = self.input(x)\n",
    "        print('conv1 var', np.round(self.convLayer1.weight.data.var().item(),6))\n",
    "        x = self.convLayer1(x)\n",
    "        x = self.activation(x)\n",
    "        print('conv2 var', np.round(self.convLayer2.weight.data.var().item(),6))\n",
    "        x = self.convLayer2(x)\n",
    "        x = self.activation(x)\n",
    "        print('conv3 var', np.round(self.convLayer3.weight.data.var().item(),6))\n",
    "        x = self.convLayer3(x)\n",
    "        x = self.activation(x)\n",
    "        print('conv4 var', np.round(self.convLayer4.weight.data.var().item(),6))\n",
    "        x = self.convLayer4(x)\n",
    "        x = self.activation(x)\n",
    "        print('conv5 var', np.round(self.convLayer5.weight.data.var().item(),6))\n",
    "        x = self.convLayer5(x)\n",
    "        x = self.activation(x)\n",
    "        #x = self.avgPool(x)\n",
    "        return x\n",
    "\n",
    "model = MyNet()\n",
    "# batch=1, channel=3, size=16x16\n",
    "output = model(torch.randn(1,3,16,16))\n",
    "output.shape"
   ]
  },
  {
   "cell_type": "code",
   "execution_count": null,
   "id": "0057b3e8",
   "metadata": {},
   "outputs": [],
   "source": [
    "'''\n",
    "print('conv3 var', self.convLayer3.weight.data.var().item())\n",
    "var2 = self.convLayer2.weight.data.var().item()\n",
    "var3 = self.convLayer3.weight.data.var().item()\n",
    "var4 = self.convLayer4.weight.data.var().item()\n",
    "'''"
   ]
  }
 ],
 "metadata": {
  "kernelspec": {
   "display_name": "Python 3",
   "language": "python",
   "name": "python3"
  },
  "language_info": {
   "codemirror_mode": {
    "name": "ipython",
    "version": 3
   },
   "file_extension": ".py",
   "mimetype": "text/x-python",
   "name": "python",
   "nbconvert_exporter": "python",
   "pygments_lexer": "ipython3",
   "version": "3.11.0"
  }
 },
 "nbformat": 4,
 "nbformat_minor": 5
}
