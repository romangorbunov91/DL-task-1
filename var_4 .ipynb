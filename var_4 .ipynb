{
 "cells": [
  {
   "cell_type": "markdown",
   "id": "a6e39cd8",
   "metadata": {},
   "source": [
    "# Вариант 4. Сравнение GAP и Flatten\n",
    "\n",
    "**Цель:** Понимание различий между Flatten и Global Average Pooling.\n",
    "\n",
    "- Спроектируйте сеть с 3 свёрточными слоями, после которых выходной тензор `(batch, 128, 8, 8)`.\n",
    "- **Условие:** Реализуйте два варианта классификации:\n",
    "  1. `Flatten → Linear`\n",
    "  2. `Global Average Pooling → Linear`\n",
    "- **Эксперимент:** Обучите оба варианта на данных и сравните дисперсию выходных активаций перед финальным слоем."
   ]
  },
  {
   "cell_type": "code",
   "execution_count": 31,
   "id": "7071135f",
   "metadata": {},
   "outputs": [],
   "source": [
    "import torch.nn as nn\n",
    "import torch\n",
    "import numpy as np\n",
    "import matplotlib.pyplot as plt"
   ]
  },
  {
   "cell_type": "code",
   "execution_count": 32,
   "id": "07d7c0f0",
   "metadata": {},
   "outputs": [],
   "source": [
    "class MyNet(nn.Module):\n",
    "    def __init__(self):\n",
    "        super().__init__()\n",
    "        self.convLayer1 = nn.Conv2d(in_channels=3, out_channels=32, kernel_size=3, stride=1, padding=1)\n",
    "        self.convLayer2 = nn.Conv2d(in_channels=32, out_channels=64, kernel_size=3, stride=2, padding=1)\n",
    "        self.convLayer3 = nn.Conv2d(in_channels=64, out_channels=128, kernel_size=3, stride=1, padding=1)\n",
    "        self.activation = nn.ReLU()\n",
    "        self.avgPool = nn.AvgPool2d(kernel_size=1, stride=1)\n",
    "        \n",
    "    def forward(self, x):\n",
    "        x = self.convLayer1(x)\n",
    "        x = self.activation(x)\n",
    "        \n",
    "        x = self.convLayer2(x)\n",
    "        x = self.activation(x)\n",
    "        \n",
    "        x = self.convLayer3(x)\n",
    "        x = self.activation(x)\n",
    "        \n",
    "        x = self.avgPool(x)\n",
    "        return x"
   ]
  },
  {
   "cell_type": "code",
   "execution_count": 33,
   "id": "c814fc22",
   "metadata": {},
   "outputs": [
    {
     "name": "stdout",
     "output_type": "stream",
     "text": [
      "torch.Size([1, 128, 8, 8])\n"
     ]
    }
   ],
   "source": [
    "models = [MyNet()]#, MyNetScaled()]\n",
    "model_names = ['general', 'scaled']\n",
    "\n",
    "# batch=1, channel=3, size=16x16\n",
    "test_tensor = torch.randn(1, 3, 16, 16)\n",
    "\n",
    "for mdl in models:\n",
    "    # batch=1, channel=3, size=16x16\n",
    "    print(mdl(test_tensor).shape)"
   ]
  }
 ],
 "metadata": {
  "kernelspec": {
   "display_name": "Python 3",
   "language": "python",
   "name": "python3"
  },
  "language_info": {
   "codemirror_mode": {
    "name": "ipython",
    "version": 3
   },
   "file_extension": ".py",
   "mimetype": "text/x-python",
   "name": "python",
   "nbconvert_exporter": "python",
   "pygments_lexer": "ipython3",
   "version": "3.11.0"
  }
 },
 "nbformat": 4,
 "nbformat_minor": 5
}
